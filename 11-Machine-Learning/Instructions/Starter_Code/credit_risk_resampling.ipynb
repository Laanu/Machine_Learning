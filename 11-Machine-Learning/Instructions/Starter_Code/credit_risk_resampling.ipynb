{
 "cells": [
  {
   "cell_type": "markdown",
   "metadata": {},
   "source": [
    "# Credit Risk Resampling Techniques"
   ]
  },
  {
   "cell_type": "code",
   "execution_count": 16,
   "metadata": {},
   "outputs": [],
   "source": [
    "import warnings\n",
    "warnings.filterwarnings('ignore')\n"
   ]
  },
  {
   "cell_type": "code",
   "execution_count": 17,
   "metadata": {},
   "outputs": [],
   "source": [
    "import numpy as np\n",
    "import pandas as pd\n",
    "from pathlib import Path\n",
    "from collections import Counter\n",
    "from sklearn.preprocessing import LabelEncoder, StandardScaler\n",
    "\n"
   ]
  },
  {
   "cell_type": "markdown",
   "metadata": {},
   "source": [
    "# Read the CSV and Perform Basic Data Cleaning"
   ]
  },
  {
   "cell_type": "code",
   "execution_count": 18,
   "metadata": {},
   "outputs": [],
   "source": [
    "columns = [ \"loan_amnt\", \"int_rate\", \"installment\",\"annual_inc\", \"loan_status\", \"dti\", \"delinq_2yrs\", \"inq_last_6mths\", \"open_acc\", \"pub_rec\", \"revol_bal\", \"total_acc\", \"out_prncp\", \"out_prncp_inv\", \"total_pymnt\",\"total_pymnt_inv\", \"total_rec_prncp\", \"total_rec_int\", \"total_rec_late_fee\",\"recoveries\",\"collection_recovery_fee\", \"last_pymnt_amnt\", \"collections_12_mths_ex_med\", \"policy_code\", \"acc_now_delinq\",\"tot_coll_amt\",\"tot_cur_bal\", \"open_acc_6m\", \"open_act_il\",\"open_il_12m\", \"open_il_24m\", \"mths_since_rcnt_il\", \"total_bal_il\",\"il_util\", \"open_rv_12m\", \"open_rv_24m\", \"max_bal_bc\",\"all_util\", \"total_rev_hi_lim\", \"inq_fi\", \"total_cu_tl\",\"inq_last_12m\", \"acc_open_past_24mths\", \"avg_cur_bal\", \"bc_open_to_buy\", \"bc_util\", \"chargeoff_within_12_mths\", \"delinq_amnt\", \"mo_sin_old_il_acct\",\"mo_sin_old_rev_tl_op\", \"mo_sin_rcnt_rev_tl_op\", \"mo_sin_rcnt_tl\", \"mort_acc\",\"mths_since_recent_bc\", \"mths_since_recent_inq\", \"num_accts_ever_120_pd\",\"num_actv_bc_tl\",\"num_actv_rev_tl\", \"num_bc_sats\", \"num_bc_tl\", \"num_il_tl\",\"num_op_rev_tl\", \"num_rev_accts\", \"num_rev_tl_bal_gt_0\",\"num_sats\", \"num_tl_120dpd_2m\", \"num_tl_30dpd\", \"num_tl_90g_dpd_24m\",\"num_tl_op_past_12m\",\"pct_tl_nvr_dlq\", \"percent_bc_gt_75\", \"pub_rec_bankruptcies\",\"tax_liens\", \"tot_hi_cred_lim\", \"total_bal_ex_mort\", \"total_bc_limit\",\"total_il_high_credit_limit\"]\n",
    "   \n",
    "\n",
    "target = [\"loan_status\"]"
   ]
  },
  {
   "cell_type": "code",
   "execution_count": 19,
   "metadata": {},
   "outputs": [
    {
     "output_type": "execute_result",
     "data": {
      "text/plain": [
       "'columns = [ \"loan_amnt\", \"int_rate\", \"installment\",\"annual_inc\", \"loan_status\", \"dti\", \"delinq_2yrs\", \"inq_last_6mths\", \"open_acc\", \"pub_rec\", \"revol_bal\", \"total_acc\", \"out_prncp\", \"out_prncp_inv\", \"total_pymnt\",\"total_pymnt_inv\", \"total_rec_prncp\", \"total_rec_int\", \"total_rec_late_fee\",\"recoveries\",\"collection_recovery_fee\", \"last_pymnt_amnt\", \"collections_12_mths_ex_med\", \"policy_code\", \"acc_now_delinq\",\"tot_coll_amt\",\"tot_cur_bal\", \"open_acc_6m\", \"open_act_il\",\"open_il_12m\", \"open_il_24m\", \"mths_since_rcnt_il\", \"total_bal_il\",\"il_util\", \"open_rv_12m\", \"open_rv_24m\", \"max_bal_bc\",\"all_util\", \"total_rev_hi_lim\", \"inq_fi\", \"total_cu_tl\",\"inq_last_12m\", \"acc_open_past_24mths\", \"avg_cur_bal\", \"bc_open_to_buy\", \"bc_util\", \"chargeoff_within_12_mths\", \"delinq_amnt\", \"mo_sin_old_il_acct\",\"mo_sin_old_rev_tl_op\", \"mo_sin_rcnt_rev_tl_op\", \"mo_sin_rcnt_tl\", \"mort_acc\",\"mths_since_recent_bc\", \"mths_since_recent_inq\", \"num_accts_ever_120_pd\",\"num_actv_bc_tl\",\"num_actv_rev_tl\", \"num_bc_sats\", \"num_bc_tl\", \"num_il_tl\",\"num_op_rev_tl\", \"num_rev_accts\", \"num_rev_tl_bal_gt_0\",\"num_sats\", \"num_tl_120dpd_2m\", \"num_tl_30dpd\", \"num_tl_90g_dpd_24m\",\"num_tl_op_past_12m\",\"pct_tl_nvr_dlq\", \"percent_bc_gt_75\", \"pub_rec_bankruptcies\",\"tax_liens\", \"tot_hi_cred_lim\", \"total_bal_ex_mort\", \"total_bc_limit\",\"total_il_high_credit_limit\", \"hardship_flag\", \"debt_settlement_flag\",]\\n   \\n\\ntarget = [\"loan_status\"]'"
      ]
     },
     "metadata": {},
     "execution_count": 19
    }
   ],
   "source": [
    "\"\"\"columns = [ \"loan_amnt\", \"int_rate\", \"installment\",\"annual_inc\", \"loan_status\", \"dti\", \"delinq_2yrs\", \"inq_last_6mths\", \"open_acc\", \"pub_rec\", \"revol_bal\", \"total_acc\", \"out_prncp\", \"out_prncp_inv\", \"total_pymnt\",\"total_pymnt_inv\", \"total_rec_prncp\", \"total_rec_int\", \"total_rec_late_fee\",\"recoveries\",\"collection_recovery_fee\", \"last_pymnt_amnt\", \"collections_12_mths_ex_med\", \"policy_code\", \"acc_now_delinq\",\"tot_coll_amt\",\"tot_cur_bal\", \"open_acc_6m\", \"open_act_il\",\"open_il_12m\", \"open_il_24m\", \"mths_since_rcnt_il\", \"total_bal_il\",\"il_util\", \"open_rv_12m\", \"open_rv_24m\", \"max_bal_bc\",\"all_util\", \"total_rev_hi_lim\", \"inq_fi\", \"total_cu_tl\",\"inq_last_12m\", \"acc_open_past_24mths\", \"avg_cur_bal\", \"bc_open_to_buy\", \"bc_util\", \"chargeoff_within_12_mths\", \"delinq_amnt\", \"mo_sin_old_il_acct\",\"mo_sin_old_rev_tl_op\", \"mo_sin_rcnt_rev_tl_op\", \"mo_sin_rcnt_tl\", \"mort_acc\",\"mths_since_recent_bc\", \"mths_since_recent_inq\", \"num_accts_ever_120_pd\",\"num_actv_bc_tl\",\"num_actv_rev_tl\", \"num_bc_sats\", \"num_bc_tl\", \"num_il_tl\",\"num_op_rev_tl\", \"num_rev_accts\", \"num_rev_tl_bal_gt_0\",\"num_sats\", \"num_tl_120dpd_2m\", \"num_tl_30dpd\", \"num_tl_90g_dpd_24m\",\"num_tl_op_past_12m\",\"pct_tl_nvr_dlq\", \"percent_bc_gt_75\", \"pub_rec_bankruptcies\",\"tax_liens\", \"tot_hi_cred_lim\", \"total_bal_ex_mort\", \"total_bc_limit\",\"total_il_high_credit_limit\", \"hardship_flag\", \"debt_settlement_flag\",]\n",
    "   \n",
    "\n",
    "target = [\"loan_status\"]\"\"\""
   ]
  },
  {
   "cell_type": "code",
   "execution_count": null,
   "metadata": {},
   "outputs": [],
   "source": []
  },
  {
   "cell_type": "code",
   "execution_count": 20,
   "metadata": {},
   "outputs": [
    {
     "output_type": "execute_result",
     "data": {
      "text/plain": [
       "   loan_amnt  int_rate  installment  annual_inc loan_status    dti  \\\n",
       "0    35000.0    0.1308       797.80    125890.0  Fully Paid  30.48   \n",
       "1    10500.0    0.1719       375.35     66000.0    low_risk  27.24   \n",
       "2    25000.0    0.2000       929.09    105000.0    low_risk  20.23   \n",
       "3    20000.0    0.2000       529.88     56000.0    low_risk  24.26   \n",
       "4    10000.0    0.1640       353.55     92000.0    low_risk  31.44   \n",
       "\n",
       "   delinq_2yrs  inq_last_6mths  open_acc  pub_rec  ...  num_tl_90g_dpd_24m  \\\n",
       "0          0.0             0.0      14.0      0.0  ...                 0.0   \n",
       "1          0.0             0.0       8.0      0.0  ...                 0.0   \n",
       "2          0.0             0.0      17.0      1.0  ...                 0.0   \n",
       "3          0.0             0.0       8.0      0.0  ...                 0.0   \n",
       "4          0.0             1.0      10.0      1.0  ...                 0.0   \n",
       "\n",
       "   num_tl_op_past_12m  pct_tl_nvr_dlq  percent_bc_gt_75  pub_rec_bankruptcies  \\\n",
       "0                 2.0           100.0              80.0                   0.0   \n",
       "1                 3.0            85.7             100.0                   0.0   \n",
       "2                 6.0            91.2              50.0                   1.0   \n",
       "3                 4.0            66.7              50.0                   0.0   \n",
       "4                 1.0           100.0              50.0                   1.0   \n",
       "\n",
       "   tax_liens  tot_hi_cred_lim  total_bal_ex_mort  total_bc_limit  \\\n",
       "0        0.0         399376.0           131350.0         32700.0   \n",
       "1        0.0          65687.0            38199.0          2000.0   \n",
       "2        0.0         271427.0            60641.0         41200.0   \n",
       "3        0.0          60644.0            45684.0          7500.0   \n",
       "4        0.0          99506.0            68784.0         19700.0   \n",
       "\n",
       "   total_il_high_credit_limit  \n",
       "0                    130876.0  \n",
       "1                     61987.0  \n",
       "2                     49197.0  \n",
       "3                     43144.0  \n",
       "4                     76506.0  \n",
       "\n",
       "[5 rows x 77 columns]"
      ],
      "text/html": "<div>\n<style scoped>\n    .dataframe tbody tr th:only-of-type {\n        vertical-align: middle;\n    }\n\n    .dataframe tbody tr th {\n        vertical-align: top;\n    }\n\n    .dataframe thead th {\n        text-align: right;\n    }\n</style>\n<table border=\"1\" class=\"dataframe\">\n  <thead>\n    <tr style=\"text-align: right;\">\n      <th></th>\n      <th>loan_amnt</th>\n      <th>int_rate</th>\n      <th>installment</th>\n      <th>annual_inc</th>\n      <th>loan_status</th>\n      <th>dti</th>\n      <th>delinq_2yrs</th>\n      <th>inq_last_6mths</th>\n      <th>open_acc</th>\n      <th>pub_rec</th>\n      <th>...</th>\n      <th>num_tl_90g_dpd_24m</th>\n      <th>num_tl_op_past_12m</th>\n      <th>pct_tl_nvr_dlq</th>\n      <th>percent_bc_gt_75</th>\n      <th>pub_rec_bankruptcies</th>\n      <th>tax_liens</th>\n      <th>tot_hi_cred_lim</th>\n      <th>total_bal_ex_mort</th>\n      <th>total_bc_limit</th>\n      <th>total_il_high_credit_limit</th>\n    </tr>\n  </thead>\n  <tbody>\n    <tr>\n      <th>0</th>\n      <td>35000.0</td>\n      <td>0.1308</td>\n      <td>797.80</td>\n      <td>125890.0</td>\n      <td>Fully Paid</td>\n      <td>30.48</td>\n      <td>0.0</td>\n      <td>0.0</td>\n      <td>14.0</td>\n      <td>0.0</td>\n      <td>...</td>\n      <td>0.0</td>\n      <td>2.0</td>\n      <td>100.0</td>\n      <td>80.0</td>\n      <td>0.0</td>\n      <td>0.0</td>\n      <td>399376.0</td>\n      <td>131350.0</td>\n      <td>32700.0</td>\n      <td>130876.0</td>\n    </tr>\n    <tr>\n      <th>1</th>\n      <td>10500.0</td>\n      <td>0.1719</td>\n      <td>375.35</td>\n      <td>66000.0</td>\n      <td>low_risk</td>\n      <td>27.24</td>\n      <td>0.0</td>\n      <td>0.0</td>\n      <td>8.0</td>\n      <td>0.0</td>\n      <td>...</td>\n      <td>0.0</td>\n      <td>3.0</td>\n      <td>85.7</td>\n      <td>100.0</td>\n      <td>0.0</td>\n      <td>0.0</td>\n      <td>65687.0</td>\n      <td>38199.0</td>\n      <td>2000.0</td>\n      <td>61987.0</td>\n    </tr>\n    <tr>\n      <th>2</th>\n      <td>25000.0</td>\n      <td>0.2000</td>\n      <td>929.09</td>\n      <td>105000.0</td>\n      <td>low_risk</td>\n      <td>20.23</td>\n      <td>0.0</td>\n      <td>0.0</td>\n      <td>17.0</td>\n      <td>1.0</td>\n      <td>...</td>\n      <td>0.0</td>\n      <td>6.0</td>\n      <td>91.2</td>\n      <td>50.0</td>\n      <td>1.0</td>\n      <td>0.0</td>\n      <td>271427.0</td>\n      <td>60641.0</td>\n      <td>41200.0</td>\n      <td>49197.0</td>\n    </tr>\n    <tr>\n      <th>3</th>\n      <td>20000.0</td>\n      <td>0.2000</td>\n      <td>529.88</td>\n      <td>56000.0</td>\n      <td>low_risk</td>\n      <td>24.26</td>\n      <td>0.0</td>\n      <td>0.0</td>\n      <td>8.0</td>\n      <td>0.0</td>\n      <td>...</td>\n      <td>0.0</td>\n      <td>4.0</td>\n      <td>66.7</td>\n      <td>50.0</td>\n      <td>0.0</td>\n      <td>0.0</td>\n      <td>60644.0</td>\n      <td>45684.0</td>\n      <td>7500.0</td>\n      <td>43144.0</td>\n    </tr>\n    <tr>\n      <th>4</th>\n      <td>10000.0</td>\n      <td>0.1640</td>\n      <td>353.55</td>\n      <td>92000.0</td>\n      <td>low_risk</td>\n      <td>31.44</td>\n      <td>0.0</td>\n      <td>1.0</td>\n      <td>10.0</td>\n      <td>1.0</td>\n      <td>...</td>\n      <td>0.0</td>\n      <td>1.0</td>\n      <td>100.0</td>\n      <td>50.0</td>\n      <td>1.0</td>\n      <td>0.0</td>\n      <td>99506.0</td>\n      <td>68784.0</td>\n      <td>19700.0</td>\n      <td>76506.0</td>\n    </tr>\n  </tbody>\n</table>\n<p>5 rows × 77 columns</p>\n</div>"
     },
     "metadata": {},
     "execution_count": 20
    }
   ],
   "source": [
    "# Load the data\n",
    "file_path = Path('../Resources/LoanStats_2019Q1.csv.zip')\n",
    "df = pd.read_csv(file_path, skiprows=1)[:-2]\n",
    "df = df.loc[:, columns].copy()\n",
    "\n",
    "# Drop the null columns where all values are null\n",
    "df = df.dropna(axis='columns', how='all')\n",
    "\n",
    "# Drop the null rows\n",
    "df = df.dropna()\n",
    "\n",
    "# Remove the `Issued` loan status\n",
    "issued_mask = df['loan_status'] != 'Issued'\n",
    "df = df.loc[issued_mask]\n",
    "\n",
    "# convert interest rate to numerical\n",
    "df['int_rate'] = df['int_rate'].str.replace('%', '')\n",
    "df['int_rate'] = df['int_rate'].astype('float') / 100\n",
    "\n",
    "\n",
    "# Convert the target column values to low_risk and high_risk based on their values\n",
    "x = {'Current': 'low_risk'}   \n",
    "df = df.replace(x)\n",
    "\n",
    "x = dict.fromkeys(['Late (31-120 days)', 'Late (16-30 days)', 'Default', 'In Grace Period'], 'high_risk')    \n",
    "df = df.replace(x)\n",
    "\n",
    "df.reset_index(inplace=True, drop=True)\n",
    "\n",
    "df.head()"
   ]
  },
  {
   "cell_type": "markdown",
   "metadata": {},
   "source": [
    "# Split the Data into Training and Testing"
   ]
  },
  {
   "cell_type": "code",
   "execution_count": 21,
   "metadata": {},
   "outputs": [],
   "source": [
    "# Create our features\n",
    "X = df.drop(columns=\"loan_status\")\n",
    "\n",
    "# Create our target\n",
    "y = df[\"loan_status\"]"
   ]
  },
  {
   "cell_type": "code",
   "execution_count": 22,
   "metadata": {},
   "outputs": [
    {
     "output_type": "execute_result",
     "data": {
      "text/plain": [
       "          loan_amnt      int_rate   installment    annual_inc           dti  \\\n",
       "count  70423.000000  70423.000000  70423.000000  7.042300e+04  70423.000000   \n",
       "mean   16621.372989      0.128063    479.478688  8.843486e+04     21.745274   \n",
       "std    10282.268052      0.048339    288.457221  1.218578e+05     20.429814   \n",
       "min     1000.000000      0.060000     30.640000  4.000000e+01      0.000000   \n",
       "25%     9000.000000      0.088100    264.930000  5.000000e+04     13.840000   \n",
       "50%    15000.000000      0.118000    402.890000  7.300000e+04     19.710000   \n",
       "75%    24000.000000      0.155700    646.740000  1.040000e+05     26.620000   \n",
       "max    40000.000000      0.308400   1676.230000  9.000000e+06    999.000000   \n",
       "\n",
       "        delinq_2yrs  inq_last_6mths      open_acc       pub_rec  \\\n",
       "count  70423.000000    70423.000000  70423.000000  70423.000000   \n",
       "mean       0.217244        0.500632     12.583787      0.125939   \n",
       "std        0.718822        0.760803      6.028804      0.336711   \n",
       "min        0.000000        0.000000      2.000000      0.000000   \n",
       "25%        0.000000        0.000000      8.000000      0.000000   \n",
       "50%        0.000000        0.000000     11.000000      0.000000   \n",
       "75%        0.000000        1.000000     16.000000      0.000000   \n",
       "max       18.000000        5.000000     72.000000      4.000000   \n",
       "\n",
       "           revol_bal  ...  num_tl_90g_dpd_24m  num_tl_op_past_12m  \\\n",
       "count   70423.000000  ...        70423.000000        70423.000000   \n",
       "mean    17549.650966  ...            0.052213            2.231657   \n",
       "std     21880.270487  ...            0.393946            1.907077   \n",
       "min         0.000000  ...            0.000000            0.000000   \n",
       "25%      6240.500000  ...            0.000000            1.000000   \n",
       "50%     12014.000000  ...            0.000000            2.000000   \n",
       "75%     21657.500000  ...            0.000000            3.000000   \n",
       "max    587191.000000  ...           18.000000           19.000000   \n",
       "\n",
       "       pct_tl_nvr_dlq  percent_bc_gt_75  pub_rec_bankruptcies  tax_liens  \\\n",
       "count    70423.000000      70423.000000          70423.000000    70423.0   \n",
       "mean        95.073013         30.515630              0.125882        0.0   \n",
       "std          8.311660         33.618896              0.336648        0.0   \n",
       "min         20.000000          0.000000              0.000000        0.0   \n",
       "25%         93.100000          0.000000              0.000000        0.0   \n",
       "50%        100.000000         20.000000              0.000000        0.0   \n",
       "75%        100.000000         50.000000              0.000000        0.0   \n",
       "max        100.000000        100.000000              4.000000        0.0   \n",
       "\n",
       "       tot_hi_cred_lim  total_bal_ex_mort  total_bc_limit  \\\n",
       "count     7.042300e+04       7.042300e+04    70423.000000   \n",
       "mean      2.100903e+05       6.131966e+04    29748.067038   \n",
       "std       1.928094e+05       5.735407e+04    26888.846929   \n",
       "min       3.600000e+03       2.350000e+02      100.000000   \n",
       "25%       6.700800e+04       2.645200e+04    11600.000000   \n",
       "50%       1.469600e+05       4.533800e+04    22100.000000   \n",
       "75%       3.036355e+05       7.656750e+04    39300.000000   \n",
       "max       3.292782e+06       1.295455e+06   509400.000000   \n",
       "\n",
       "       total_il_high_credit_limit  \n",
       "count                7.042300e+04  \n",
       "mean                 5.572026e+04  \n",
       "std                  5.090730e+04  \n",
       "min                  1.270000e+02  \n",
       "25%                  2.286200e+04  \n",
       "50%                  4.200000e+04  \n",
       "75%                  7.250600e+04  \n",
       "max                  1.426964e+06  \n",
       "\n",
       "[8 rows x 76 columns]"
      ],
      "text/html": "<div>\n<style scoped>\n    .dataframe tbody tr th:only-of-type {\n        vertical-align: middle;\n    }\n\n    .dataframe tbody tr th {\n        vertical-align: top;\n    }\n\n    .dataframe thead th {\n        text-align: right;\n    }\n</style>\n<table border=\"1\" class=\"dataframe\">\n  <thead>\n    <tr style=\"text-align: right;\">\n      <th></th>\n      <th>loan_amnt</th>\n      <th>int_rate</th>\n      <th>installment</th>\n      <th>annual_inc</th>\n      <th>dti</th>\n      <th>delinq_2yrs</th>\n      <th>inq_last_6mths</th>\n      <th>open_acc</th>\n      <th>pub_rec</th>\n      <th>revol_bal</th>\n      <th>...</th>\n      <th>num_tl_90g_dpd_24m</th>\n      <th>num_tl_op_past_12m</th>\n      <th>pct_tl_nvr_dlq</th>\n      <th>percent_bc_gt_75</th>\n      <th>pub_rec_bankruptcies</th>\n      <th>tax_liens</th>\n      <th>tot_hi_cred_lim</th>\n      <th>total_bal_ex_mort</th>\n      <th>total_bc_limit</th>\n      <th>total_il_high_credit_limit</th>\n    </tr>\n  </thead>\n  <tbody>\n    <tr>\n      <th>count</th>\n      <td>70423.000000</td>\n      <td>70423.000000</td>\n      <td>70423.000000</td>\n      <td>7.042300e+04</td>\n      <td>70423.000000</td>\n      <td>70423.000000</td>\n      <td>70423.000000</td>\n      <td>70423.000000</td>\n      <td>70423.000000</td>\n      <td>70423.000000</td>\n      <td>...</td>\n      <td>70423.000000</td>\n      <td>70423.000000</td>\n      <td>70423.000000</td>\n      <td>70423.000000</td>\n      <td>70423.000000</td>\n      <td>70423.0</td>\n      <td>7.042300e+04</td>\n      <td>7.042300e+04</td>\n      <td>70423.000000</td>\n      <td>7.042300e+04</td>\n    </tr>\n    <tr>\n      <th>mean</th>\n      <td>16621.372989</td>\n      <td>0.128063</td>\n      <td>479.478688</td>\n      <td>8.843486e+04</td>\n      <td>21.745274</td>\n      <td>0.217244</td>\n      <td>0.500632</td>\n      <td>12.583787</td>\n      <td>0.125939</td>\n      <td>17549.650966</td>\n      <td>...</td>\n      <td>0.052213</td>\n      <td>2.231657</td>\n      <td>95.073013</td>\n      <td>30.515630</td>\n      <td>0.125882</td>\n      <td>0.0</td>\n      <td>2.100903e+05</td>\n      <td>6.131966e+04</td>\n      <td>29748.067038</td>\n      <td>5.572026e+04</td>\n    </tr>\n    <tr>\n      <th>std</th>\n      <td>10282.268052</td>\n      <td>0.048339</td>\n      <td>288.457221</td>\n      <td>1.218578e+05</td>\n      <td>20.429814</td>\n      <td>0.718822</td>\n      <td>0.760803</td>\n      <td>6.028804</td>\n      <td>0.336711</td>\n      <td>21880.270487</td>\n      <td>...</td>\n      <td>0.393946</td>\n      <td>1.907077</td>\n      <td>8.311660</td>\n      <td>33.618896</td>\n      <td>0.336648</td>\n      <td>0.0</td>\n      <td>1.928094e+05</td>\n      <td>5.735407e+04</td>\n      <td>26888.846929</td>\n      <td>5.090730e+04</td>\n    </tr>\n    <tr>\n      <th>min</th>\n      <td>1000.000000</td>\n      <td>0.060000</td>\n      <td>30.640000</td>\n      <td>4.000000e+01</td>\n      <td>0.000000</td>\n      <td>0.000000</td>\n      <td>0.000000</td>\n      <td>2.000000</td>\n      <td>0.000000</td>\n      <td>0.000000</td>\n      <td>...</td>\n      <td>0.000000</td>\n      <td>0.000000</td>\n      <td>20.000000</td>\n      <td>0.000000</td>\n      <td>0.000000</td>\n      <td>0.0</td>\n      <td>3.600000e+03</td>\n      <td>2.350000e+02</td>\n      <td>100.000000</td>\n      <td>1.270000e+02</td>\n    </tr>\n    <tr>\n      <th>25%</th>\n      <td>9000.000000</td>\n      <td>0.088100</td>\n      <td>264.930000</td>\n      <td>5.000000e+04</td>\n      <td>13.840000</td>\n      <td>0.000000</td>\n      <td>0.000000</td>\n      <td>8.000000</td>\n      <td>0.000000</td>\n      <td>6240.500000</td>\n      <td>...</td>\n      <td>0.000000</td>\n      <td>1.000000</td>\n      <td>93.100000</td>\n      <td>0.000000</td>\n      <td>0.000000</td>\n      <td>0.0</td>\n      <td>6.700800e+04</td>\n      <td>2.645200e+04</td>\n      <td>11600.000000</td>\n      <td>2.286200e+04</td>\n    </tr>\n    <tr>\n      <th>50%</th>\n      <td>15000.000000</td>\n      <td>0.118000</td>\n      <td>402.890000</td>\n      <td>7.300000e+04</td>\n      <td>19.710000</td>\n      <td>0.000000</td>\n      <td>0.000000</td>\n      <td>11.000000</td>\n      <td>0.000000</td>\n      <td>12014.000000</td>\n      <td>...</td>\n      <td>0.000000</td>\n      <td>2.000000</td>\n      <td>100.000000</td>\n      <td>20.000000</td>\n      <td>0.000000</td>\n      <td>0.0</td>\n      <td>1.469600e+05</td>\n      <td>4.533800e+04</td>\n      <td>22100.000000</td>\n      <td>4.200000e+04</td>\n    </tr>\n    <tr>\n      <th>75%</th>\n      <td>24000.000000</td>\n      <td>0.155700</td>\n      <td>646.740000</td>\n      <td>1.040000e+05</td>\n      <td>26.620000</td>\n      <td>0.000000</td>\n      <td>1.000000</td>\n      <td>16.000000</td>\n      <td>0.000000</td>\n      <td>21657.500000</td>\n      <td>...</td>\n      <td>0.000000</td>\n      <td>3.000000</td>\n      <td>100.000000</td>\n      <td>50.000000</td>\n      <td>0.000000</td>\n      <td>0.0</td>\n      <td>3.036355e+05</td>\n      <td>7.656750e+04</td>\n      <td>39300.000000</td>\n      <td>7.250600e+04</td>\n    </tr>\n    <tr>\n      <th>max</th>\n      <td>40000.000000</td>\n      <td>0.308400</td>\n      <td>1676.230000</td>\n      <td>9.000000e+06</td>\n      <td>999.000000</td>\n      <td>18.000000</td>\n      <td>5.000000</td>\n      <td>72.000000</td>\n      <td>4.000000</td>\n      <td>587191.000000</td>\n      <td>...</td>\n      <td>18.000000</td>\n      <td>19.000000</td>\n      <td>100.000000</td>\n      <td>100.000000</td>\n      <td>4.000000</td>\n      <td>0.0</td>\n      <td>3.292782e+06</td>\n      <td>1.295455e+06</td>\n      <td>509400.000000</td>\n      <td>1.426964e+06</td>\n    </tr>\n  </tbody>\n</table>\n<p>8 rows × 76 columns</p>\n</div>"
     },
     "metadata": {},
     "execution_count": 22
    }
   ],
   "source": [
    "X.describe()"
   ]
  },
  {
   "cell_type": "code",
   "execution_count": 23,
   "metadata": {},
   "outputs": [
    {
     "output_type": "execute_result",
     "data": {
      "text/plain": [
       "low_risk       68470\n",
       "Fully Paid      1584\n",
       "high_risk        347\n",
       "Charged Off       22\n",
       "Name: loan_status, dtype: int64"
      ]
     },
     "metadata": {},
     "execution_count": 23
    }
   ],
   "source": [
    "# Check the balance of our target values\n",
    "y.value_counts()"
   ]
  },
  {
   "cell_type": "code",
   "execution_count": 24,
   "metadata": {},
   "outputs": [
    {
     "output_type": "execute_result",
     "data": {
      "text/plain": [
       "(52817, 76)"
      ]
     },
     "metadata": {},
     "execution_count": 24
    }
   ],
   "source": [
    "# Create X_train, X_test, y_train, y_test\n",
    "\n",
    "from sklearn.model_selection import train_test_split\n",
    "X_train, X_test, y_train, y_test = train_test_split(X, \n",
    "                                                    y, \n",
    "                                                    random_state=1, \n",
    "                                                    stratify=y)\n",
    "X_train.shape"
   ]
  },
  {
   "cell_type": "markdown",
   "metadata": {},
   "source": [
    "## Data Pre-Processing\n",
    "\n",
    "Scale the training and testing data using the `StandardScaler` from `sklearn`. Remember that when scaling the data, you only scale the features data (`X_train` and `X_testing`)."
   ]
  },
  {
   "cell_type": "code",
   "execution_count": 25,
   "metadata": {},
   "outputs": [],
   "source": [
    "# Create the StandardScaler instance\n",
    "from sklearn.preprocessing import StandardScaler\n",
    "scaler = StandardScaler()"
   ]
  },
  {
   "cell_type": "code",
   "execution_count": 26,
   "metadata": {},
   "outputs": [],
   "source": [
    "# Fit the Standard Scaler with the training data\n",
    "# When fitting scaling functions, only train on the training dataset\n",
    "scaler = StandardScaler()"
   ]
  },
  {
   "cell_type": "code",
   "execution_count": 27,
   "metadata": {},
   "outputs": [],
   "source": [
    "# Scale the training and testing data\n",
    "X_Scaler = scaler.fit(X_train)\n",
    "X_train_scaled = X_Scaler.transform(X_train)\n",
    "X_test_scaled = X_Scaler.transform(X_test)"
   ]
  },
  {
   "cell_type": "markdown",
   "metadata": {},
   "source": [
    "# Oversampling\n",
    "\n",
    "In this section, you will compare two oversampling algorithms to determine which algorithm results in the best performance. You will oversample the data using the naive random oversampling algorithm and the SMOTE algorithm. For each algorithm, be sure to complete the folliowing steps:\n",
    "\n",
    "1. View the count of the target classes using `Counter` from the collections library. \n",
    "3. Use the resampled data to train a logistic regression model.\n",
    "3. Calculate the balanced accuracy score from sklearn.metrics.\n",
    "4. Print the confusion matrix from sklearn.metrics.\n",
    "5. Generate a classication report using the `imbalanced_classification_report` from imbalanced-learn.\n",
    "\n",
    "Note: Use a random state of 1 for each sampling algorithm to ensure consistency between tests"
   ]
  },
  {
   "cell_type": "markdown",
   "metadata": {},
   "source": [
    "### Naive Random Oversampling"
   ]
  },
  {
   "cell_type": "code",
   "execution_count": 28,
   "metadata": {},
   "outputs": [
    {
     "output_type": "execute_result",
     "data": {
      "text/plain": [
       "Counter({'low_risk': 51352,\n",
       "         'high_risk': 51352,\n",
       "         'Fully Paid': 51352,\n",
       "         'Charged Off': 51352})"
      ]
     },
     "metadata": {},
     "execution_count": 28
    }
   ],
   "source": [
    "# Resample the training data with the RandomOversampler\n",
    "from imblearn.over_sampling import RandomOverSampler\n",
    "ROS = RandomOverSampler(random_state=1)\n",
    "X_resampled, y_resampled = ROS.fit_resample(X_train, y_train)\n",
    "Counter(y_resampled)"
   ]
  },
  {
   "cell_type": "code",
   "execution_count": 29,
   "metadata": {},
   "outputs": [],
   "source": [
    "# Train the Logistic Regression model using the resampled data\n",
    "from sklearn.linear_model import LogisticRegression\n",
    "\n",
    "model = LogisticRegression(solver='lbfgs', random_state=1)\n",
    "model.fit(X_resampled, y_resampled)\n",
    "y_pred = model.predict(X_test_scaled)"
   ]
  },
  {
   "cell_type": "code",
   "execution_count": 30,
   "metadata": {},
   "outputs": [
    {
     "output_type": "execute_result",
     "data": {
      "text/plain": [
       "0.6132166785517161"
      ]
     },
     "metadata": {},
     "execution_count": 30
    }
   ],
   "source": [
    "# Calculated the balanced accuracy score\n",
    "\n",
    "from sklearn.metrics import balanced_accuracy_score\n",
    "\n",
    "balanced_accuracy_score(y_test, y_pred)"
   ]
  },
  {
   "cell_type": "code",
   "execution_count": 31,
   "metadata": {},
   "outputs": [
    {
     "output_type": "execute_result",
     "data": {
      "text/plain": [
       "array([[    5,     0,     0,     0],\n",
       "       [    0,   389,     0,     7],\n",
       "       [    0,     0,    44,    43],\n",
       "       [   11,    71,  5600, 11436]])"
      ]
     },
     "metadata": {},
     "execution_count": 31
    }
   ],
   "source": [
    "# Display the confusion matrix\n",
    "from sklearn.metrics import confusion_matrix\n",
    "\n",
    "y_pred = model.predict(X_test)\n",
    "confusion_matrix(y_test, y_pred)"
   ]
  },
  {
   "cell_type": "code",
   "execution_count": 32,
   "metadata": {},
   "outputs": [
    {
     "output_type": "stream",
     "name": "stdout",
     "text": [
      "                   pre       rec       spe        f1       geo       iba       sup\n\nCharged Off       0.31      1.00      1.00      0.48      1.00      1.00         5\n Fully Paid       0.85      0.98      1.00      0.91      0.99      0.98       396\n  high_risk       0.01      0.51      0.68      0.02      0.59      0.34        87\n   low_risk       1.00      0.67      0.90      0.80      0.77      0.59     17118\n\navg / total       0.99      0.67      0.90      0.80      0.78      0.59     17606\n\n"
     ]
    }
   ],
   "source": [
    "# Print the imbalanced classification report\n",
    "from imblearn.metrics import classification_report_imbalanced\n",
    "\n",
    "print(classification_report_imbalanced(y_test, y_pred))"
   ]
  },
  {
   "cell_type": "markdown",
   "metadata": {},
   "source": [
    "### SMOTE Oversampling"
   ]
  },
  {
   "cell_type": "code",
   "execution_count": 33,
   "metadata": {},
   "outputs": [
    {
     "output_type": "execute_result",
     "data": {
      "text/plain": [
       "Counter({'low_risk': 51352,\n",
       "         'high_risk': 51352,\n",
       "         'Fully Paid': 51352,\n",
       "         'Charged Off': 51352})"
      ]
     },
     "metadata": {},
     "execution_count": 33
    }
   ],
   "source": [
    "# Resample the training data with SMOTE\n",
    "from imblearn.over_sampling import SMOTE\n",
    "X_resampled, y_resampled = SMOTE(random_state=1, sampling_strategy='auto').fit_resample(X_train, y_train)\n",
    "Counter(y_resampled)"
   ]
  },
  {
   "cell_type": "code",
   "execution_count": 34,
   "metadata": {},
   "outputs": [
    {
     "output_type": "execute_result",
     "data": {
      "text/plain": [
       "LogisticRegression(random_state=1)"
      ]
     },
     "metadata": {},
     "execution_count": 34
    }
   ],
   "source": [
    "# Train the Logistic Regression model using the resampled data\n",
    "model = LogisticRegression(solver='lbfgs', random_state=1)\n",
    "model.fit(X_resampled, y_resampled)"
   ]
  },
  {
   "cell_type": "code",
   "execution_count": 35,
   "metadata": {},
   "outputs": [
    {
     "output_type": "execute_result",
     "data": {
      "text/plain": [
       "0.7720737323560123"
      ]
     },
     "metadata": {},
     "execution_count": 35
    }
   ],
   "source": [
    "# Calculated the balanced accuracy score\n",
    "y_pred = model.predict(X_test)\n",
    "balanced_accuracy_score(y_test, y_pred)"
   ]
  },
  {
   "cell_type": "code",
   "execution_count": 36,
   "metadata": {},
   "outputs": [
    {
     "output_type": "execute_result",
     "data": {
      "text/plain": [
       "array([[    5,     0,     0,     0],\n",
       "       [   13,   380,     1,     2],\n",
       "       [    1,     0,    37,    49],\n",
       "       [  120,    78,  4879, 12041]])"
      ]
     },
     "metadata": {},
     "execution_count": 36
    }
   ],
   "source": [
    "# Display the confusion matrix\n",
    "confusion_matrix(y_test, y_pred)"
   ]
  },
  {
   "cell_type": "code",
   "execution_count": 37,
   "metadata": {},
   "outputs": [
    {
     "output_type": "stream",
     "name": "stdout",
     "text": [
      "                   pre       rec       spe        f1       geo       iba       sup\n\nCharged Off       0.04      1.00      0.99      0.07      1.00      0.99         5\n Fully Paid       0.83      0.96      1.00      0.89      0.98      0.95       396\n  high_risk       0.01      0.43      0.72      0.01      0.55      0.30        87\n   low_risk       1.00      0.70      0.90      0.82      0.79      0.62     17118\n\navg / total       0.99      0.71      0.90      0.82      0.80      0.62     17606\n\n"
     ]
    }
   ],
   "source": [
    "# Print the imbalanced classification report\n",
    "print(classification_report_imbalanced(y_test, y_pred))"
   ]
  },
  {
   "cell_type": "markdown",
   "metadata": {},
   "source": [
    "# Undersampling\n",
    "\n",
    "In this section, you will test an undersampling algorithms to determine which algorithm results in the best performance compared to the oversampling algorithms above. You will undersample the data using the Cluster Centroids algorithm and complete the folliowing steps:\n",
    "\n",
    "1. View the count of the target classes using `Counter` from the collections library. \n",
    "3. Use the resampled data to train a logistic regression model.\n",
    "3. Calculate the balanced accuracy score from sklearn.metrics.\n",
    "4. Print the confusion matrix from sklearn.metrics.\n",
    "5. Generate a classication report using the `imbalanced_classification_report` from imbalanced-learn.\n",
    "\n",
    "Note: Use a random state of 1 for each sampling algorithm to ensure consistency between tests"
   ]
  },
  {
   "cell_type": "code",
   "execution_count": 38,
   "metadata": {},
   "outputs": [
    {
     "output_type": "execute_result",
     "data": {
      "text/plain": [
       "Counter({'Charged Off': 17, 'Fully Paid': 17, 'high_risk': 17, 'low_risk': 17})"
      ]
     },
     "metadata": {},
     "execution_count": 38
    }
   ],
   "source": [
    "# Resample the data using the ClusterCentroids resampler\n",
    "from imblearn.under_sampling import ClusterCentroids\n",
    "CC = ClusterCentroids(random_state=1)\n",
    "X_resampled, y_resampled = CC.fit_resample(X_train, y_train)\n",
    "Counter(y_resampled)"
   ]
  },
  {
   "cell_type": "code",
   "execution_count": 39,
   "metadata": {},
   "outputs": [
    {
     "output_type": "execute_result",
     "data": {
      "text/plain": [
       "LogisticRegression(random_state=1)"
      ]
     },
     "metadata": {},
     "execution_count": 39
    }
   ],
   "source": [
    "# Train the Logistic Regression model using the resampled data\n",
    "from sklearn.linear_model import LogisticRegression\n",
    "model = LogisticRegression(solver='lbfgs', random_state=1)\n",
    "model.fit(X_resampled, y_resampled)"
   ]
  },
  {
   "cell_type": "code",
   "execution_count": 40,
   "metadata": {},
   "outputs": [
    {
     "output_type": "execute_result",
     "data": {
      "text/plain": [
       "0.7720737323560123"
      ]
     },
     "metadata": {},
     "execution_count": 40
    }
   ],
   "source": [
    "# Calculated the balanced accuracy score\n",
    "from sklearn.metrics import balanced_accuracy_score\n",
    "\n",
    "balanced_accuracy_score(y_test, y_pred)"
   ]
  },
  {
   "cell_type": "code",
   "execution_count": 41,
   "metadata": {},
   "outputs": [
    {
     "output_type": "execute_result",
     "data": {
      "text/plain": [
       "array([[   5,    0,    0,    0],\n",
       "       [  54,  338,    1,    3],\n",
       "       [  11,    1,   49,   26],\n",
       "       [2864,  162, 8594, 5498]])"
      ]
     },
     "metadata": {},
     "execution_count": 41
    }
   ],
   "source": [
    "# Display the confusion matrix\n",
    "from sklearn.metrics import confusion_matrix\n",
    "y_pred = model.predict(X_test)\n",
    "confusion_matrix(y_test, y_pred)"
   ]
  },
  {
   "cell_type": "code",
   "execution_count": 42,
   "metadata": {},
   "outputs": [
    {
     "output_type": "stream",
     "name": "stdout",
     "text": [
      "                   pre       rec       spe        f1       geo       iba       sup\n\nCharged Off       0.00      1.00      0.83      0.00      0.91      0.85         5\n Fully Paid       0.67      0.85      0.99      0.75      0.92      0.83       396\n  high_risk       0.01      0.56      0.51      0.01      0.54      0.29        87\n   low_risk       0.99      0.32      0.94      0.49      0.55      0.28     17118\n\navg / total       0.98      0.33      0.94      0.49      0.56      0.30     17606\n\n"
     ]
    }
   ],
   "source": [
    "# Print the imbalanced classification report\n",
    "from imblearn.metrics import classification_report_imbalanced\n",
    "print(classification_report_imbalanced(y_test, y_pred))"
   ]
  },
  {
   "cell_type": "markdown",
   "metadata": {},
   "source": [
    "# Combination (Over and Under) Sampling\n",
    "\n",
    "In this section, you will test a combination over- and under-sampling algorithm to determine if the algorithm results in the best performance compared to the other sampling algorithms above. You will resample the data using the SMOTEENN algorithm and complete the folliowing steps:\n",
    "\n",
    "1. View the count of the target classes using `Counter` from the collections library. \n",
    "3. Use the resampled data to train a logistic regression model.\n",
    "3. Calculate the balanced accuracy score from sklearn.metrics.\n",
    "4. Print the confusion matrix from sklearn.metrics.\n",
    "5. Generate a classication report using the `imbalanced_classification_report` from imbalanced-learn.\n",
    "\n",
    "Note: Use a random state of 1 for each sampling algorithm to ensure consistency between tests"
   ]
  },
  {
   "cell_type": "code",
   "execution_count": 43,
   "metadata": {},
   "outputs": [
    {
     "output_type": "execute_result",
     "data": {
      "text/plain": [
       "Counter({'Charged Off': 51352,\n",
       "         'Fully Paid': 51284,\n",
       "         'high_risk': 51336,\n",
       "         'low_risk': 44797})"
      ]
     },
     "metadata": {},
     "execution_count": 43
    }
   ],
   "source": [
    "# Resample the training data with SMOTEENN\n",
    "from imblearn.combine import SMOTEENN\n",
    "\n",
    "sm = SMOTEENN(random_state=1)\n",
    "X_resampled, y_resampled = sm.fit_resample(X_train, y_train)\n",
    "Counter(y_resampled)"
   ]
  },
  {
   "cell_type": "code",
   "execution_count": 44,
   "metadata": {},
   "outputs": [
    {
     "output_type": "execute_result",
     "data": {
      "text/plain": [
       "LogisticRegression(random_state=1)"
      ]
     },
     "metadata": {},
     "execution_count": 44
    }
   ],
   "source": [
    "# Train the Logistic Regression model using the resampled data\n",
    "from sklearn.linear_model import LogisticRegression\n",
    "model = LogisticRegression(solver='lbfgs', random_state=1)\n",
    "model.fit(X_resampled, y_resampled)"
   ]
  },
  {
   "cell_type": "code",
   "execution_count": 45,
   "metadata": {},
   "outputs": [
    {
     "output_type": "execute_result",
     "data": {
      "text/plain": [
       "0.6844840313648102"
      ]
     },
     "metadata": {},
     "execution_count": 45
    }
   ],
   "source": [
    "# Calculated the balanced accuracy score\n",
    "from sklearn.metrics import balanced_accuracy_score\n",
    "\n",
    "balanced_accuracy_score(y_test, y_pred)"
   ]
  },
  {
   "cell_type": "code",
   "execution_count": 46,
   "metadata": {},
   "outputs": [
    {
     "output_type": "execute_result",
     "data": {
      "text/plain": [
       "array([[   5,    0,    0,    0],\n",
       "       [  11,  383,    2,    0],\n",
       "       [   1,    0,   43,   43],\n",
       "       [ 156,   77, 7607, 9278]])"
      ]
     },
     "metadata": {},
     "execution_count": 46
    }
   ],
   "source": [
    "# Display the confusion matrix\n",
    "from sklearn.metrics import confusion_matrix\n",
    "y_pred = model.predict(X_test)\n",
    "confusion_matrix(y_test, y_pred)"
   ]
  },
  {
   "cell_type": "code",
   "execution_count": 47,
   "metadata": {},
   "outputs": [
    {
     "output_type": "stream",
     "name": "stdout",
     "text": [
      "                   pre       rec       spe        f1       geo       iba       sup\n\nCharged Off       0.03      1.00      0.99      0.06      1.00      0.99         5\n Fully Paid       0.83      0.97      1.00      0.89      0.98      0.96       396\n  high_risk       0.01      0.49      0.57      0.01      0.53      0.28        87\n   low_risk       1.00      0.54      0.91      0.70      0.70      0.48     17118\n\navg / total       0.99      0.55      0.91      0.70      0.71      0.49     17606\n\n"
     ]
    }
   ],
   "source": [
    "# Print the imbalanced classification report\n",
    "from imblearn.metrics import classification_report_imbalanced\n",
    "print(classification_report_imbalanced(y_test, y_pred))"
   ]
  },
  {
   "cell_type": "code",
   "execution_count": null,
   "metadata": {},
   "outputs": [],
   "source": []
  }
 ],
 "metadata": {
  "kernelspec": {
   "name": "python3",
   "display_name": "Python 3.8.2 64-bit ('anaconda3': virtualenv)",
   "metadata": {
    "interpreter": {
     "hash": "17768faa9740a7a627b53c0a447c29a5dec5cb382f43934531627940642b9218"
    }
   }
  },
  "language_info": {
   "codemirror_mode": {
    "name": "ipython",
    "version": 3
   },
   "file_extension": ".py",
   "mimetype": "text/x-python",
   "name": "python",
   "nbconvert_exporter": "python",
   "pygments_lexer": "ipython3",
   "version": "3.8.2-final"
  }
 },
 "nbformat": 4,
 "nbformat_minor": 4
}